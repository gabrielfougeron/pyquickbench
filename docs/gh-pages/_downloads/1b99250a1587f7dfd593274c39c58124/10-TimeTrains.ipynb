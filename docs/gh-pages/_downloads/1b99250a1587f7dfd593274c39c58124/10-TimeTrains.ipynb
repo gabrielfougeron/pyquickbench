{
  "cells": [
    {
      "cell_type": "markdown",
      "metadata": {},
      "source": [
        "\n# Time Trains\n"
      ]
    },
    {
      "cell_type": "markdown",
      "metadata": {},
      "source": [
        "As demonstrated in earlier posts in the tutorial, :mod:`pyquickbench` can be useful to measure the wall time of python functions. More often than not however, it can be useful to have a more precise idea of where cpu cycles are spent. This is the raison d'\u00eatre of :class:`pyquickbench.TimeTrain`. As shown in the following few lines, using a :class:`pyquickbench.TimeTrain` is extremely simple: simply call the :meth:`pyquickbench.TimeTrain.toc` method between snippets of code you want to time and :mod:`pyquickbench` takes care of the rest!\n\n"
      ]
    },
    {
      "cell_type": "code",
      "execution_count": null,
      "metadata": {
        "collapsed": false
      },
      "outputs": [],
      "source": [
        "import time\nimport pyquickbench"
      ]
    },
    {
      "cell_type": "code",
      "execution_count": null,
      "metadata": {
        "collapsed": false
      },
      "outputs": [],
      "source": [
        "TT = pyquickbench.TimeTrain()\n\ntime.sleep(0.01)\nTT.toc()\n\ntime.sleep(0.02)\nTT.toc()\n\ntime.sleep(0.03)\nTT.toc()\n\ntime.sleep(0.04)\nTT.toc()\n\ntime.sleep(0.01)\nTT.toc()    \n\nprint(TT)"
      ]
    },
    {
      "cell_type": "markdown",
      "metadata": {},
      "source": [
        "Individual calls to :meth:`pyquickbench.TimeTrain.toc` can be named.\n\n"
      ]
    },
    {
      "cell_type": "code",
      "execution_count": null,
      "metadata": {
        "collapsed": false
      },
      "outputs": [],
      "source": [
        "TT = pyquickbench.TimeTrain()\n\nfor i in range(3):\n    time.sleep(0.01)\n    TT.toc(\"repeated\")\n\nfor i in range(3):\n    time.sleep(0.01)\n    TT.toc(f\"unique {i+1}\")\n\nprint(TT)"
      ]
    },
    {
      "cell_type": "markdown",
      "metadata": {},
      "source": [
        "Timing measurements relative to identical names can be reduced using any reduction method in :data:`pyquickbench.all_reductions`.\n\n"
      ]
    },
    {
      "cell_type": "code",
      "execution_count": null,
      "metadata": {
        "collapsed": false
      },
      "outputs": [],
      "source": [
        "TT = pyquickbench.TimeTrain(\n    names_reduction = 'sum',\n)\n\nfor i in range(3):\n    time.sleep(0.01)\n    TT.toc(\"repeated\")\n\nfor i in range(3):\n    time.sleep(0.01)\n    TT.toc(f\"unique {i+1}\")\n\nprint(TT)"
      ]
    },
    {
      "cell_type": "markdown",
      "metadata": {},
      "source": [
        "Reductions make locations ill-defined, which is why :class:`pyquickbench.TimeTrain` is issuing a warning. Another good reason to disable location recording is that the corresponding call to :func:`python:inspect.stack` can be non-negligible (around 0.01s on a generic laptop computer).\nDisplaying locations can be disabled like so:\n\n"
      ]
    },
    {
      "cell_type": "code",
      "execution_count": null,
      "metadata": {
        "collapsed": false
      },
      "outputs": [],
      "source": [
        "TT = pyquickbench.TimeTrain(\n    names_reduction = 'sum',\n    include_locs = False,\n)\n\nfor i in range(3):\n    time.sleep(0.01)\n    TT.toc(\"repeated\")\n\nfor i in range(3):\n    time.sleep(0.01)\n    TT.toc(f\"unique {i+1}\")\n\nprint(TT)"
      ]
    },
    {
      "cell_type": "markdown",
      "metadata": {},
      "source": [
        "TimeTrains can also time calls to a function. The function :meth:`pyquickbench.TimeTrain.tictoc` will instrumemnt a given function to record its execution time. The most starightforward is to use :meth:`pyquickbench.TimeTrain.tictoc` with a decorator syntax:\n\n"
      ]
    },
    {
      "cell_type": "code",
      "execution_count": null,
      "metadata": {
        "collapsed": false
      },
      "outputs": [],
      "source": [
        "TT = pyquickbench.TimeTrain()\n\n@TT.tictoc\ndef wait_a_bit():\n    time.sleep(0.01)\n\n@TT.tictoc\ndef wait_more():\n    time.sleep(0.01)\n    \n\nwait_a_bit()\nwait_more()\n\nprint(TT)"
      ]
    },
    {
      "cell_type": "markdown",
      "metadata": {},
      "source": [
        "Using :meth:`pyquickbench.TimeTrain.tictoc` with a regular wrapping syntax might lead to surprizing results:\n\n"
      ]
    },
    {
      "cell_type": "code",
      "execution_count": null,
      "metadata": {
        "collapsed": false
      },
      "outputs": [],
      "source": [
        "TT = pyquickbench.TimeTrain()\n    \ndef wait_unrecorded():\n    time.sleep(0.01)\n    \nwait_recorded = TT.tictoc(wait_unrecorded)\n\nwait_unrecorded()\nwait_recorded()\n\nprint(TT)"
      ]
    },
    {
      "cell_type": "markdown",
      "metadata": {},
      "source": [
        "This behavior is to be expected because under the hood, :meth:`pyquickbench.TimeTrain.tictoc` uses the ``__name__`` attribute of the wrapped function. \n\n"
      ]
    },
    {
      "cell_type": "code",
      "execution_count": null,
      "metadata": {
        "collapsed": false
      },
      "outputs": [],
      "source": [
        "print(f'{wait_recorded.__name__ = }')"
      ]
    },
    {
      "cell_type": "markdown",
      "metadata": {},
      "source": [
        "Overriding the ``__name__`` of the wrapped function gives the expected result:\n\n"
      ]
    },
    {
      "cell_type": "code",
      "execution_count": null,
      "metadata": {
        "collapsed": false
      },
      "outputs": [],
      "source": [
        "TT = pyquickbench.TimeTrain()\n    \ndef wait_unrecorded():\n    time.sleep(0.01)\n    \nwait_recorded = TT.tictoc(wait_unrecorded)\nwait_recorded.__name__ = 'wait_recorded'\n\nwait_unrecorded()\nwait_recorded()\n\nprint(TT)"
      ]
    },
    {
      "cell_type": "markdown",
      "metadata": {},
      "source": [
        "More simply, you can set a custom name with the following syntax:\n\n"
      ]
    },
    {
      "cell_type": "code",
      "execution_count": null,
      "metadata": {
        "collapsed": false
      },
      "outputs": [],
      "source": [
        "TT = pyquickbench.TimeTrain()\n    \ndef wait_unrecorded():\n    time.sleep(0.01)\n    \nwait_recorded = TT.tictoc(wait_unrecorded, name = \"my_custom_name\")\n\nwait_unrecorded()\nwait_recorded()\n\nprint(TT)"
      ]
    },
    {
      "cell_type": "markdown",
      "metadata": {},
      "source": [
        "By default, a :class:`pyquickbench.TimeTrain` will not show timings occuring in between decorated function. This behavior can be overriden setting the ``ignore_names`` argument to an empty iterator:\n\n"
      ]
    },
    {
      "cell_type": "code",
      "execution_count": null,
      "metadata": {
        "collapsed": false
      },
      "outputs": [],
      "source": [
        "TT = pyquickbench.TimeTrain(ignore_names = [])\n    \ndef wait_unrecorded():\n    time.sleep(0.01)\n    \n@TT.tictoc\ndef wait_recorded():\n    time.sleep(0.02)\n\nwait_unrecorded()\nwait_recorded()\n\nprint(TT)"
      ]
    },
    {
      "cell_type": "markdown",
      "metadata": {},
      "source": [
        "Let's revisit the benchmark in `sphx_glr__build_auto_examples_tutorial_09-Vector_output.py` and measure the execution time of different parts of the function ``uniform_quantiles`` using :class:`pyquickbench.TimeTrain`.\n\n\n"
      ]
    },
    {
      "cell_type": "code",
      "execution_count": null,
      "metadata": {
        "collapsed": false
      },
      "outputs": [],
      "source": [
        "def uniform_quantiles(n, m):\n   \n    TT = pyquickbench.TimeTrain(\n        include_locs = False,\n    )\n    \n    vec = np.random.random((n+1))\n    TT.toc(\"Random sampling\")\n    \n    vec.sort()\n    TT.toc(\"Sorting\")\n    \n    res = np.array([abs(vec[(n // m)*i]) for i in range(m+1)])\n    TT.toc(\"Building result\")\n\n    return TT"
      ]
    },
    {
      "cell_type": "markdown",
      "metadata": {},
      "source": [
        "This function can be divided up into three main parts:\n\n* A random sampling phase, where data is generated. This part is expected to scale as $\\mathcal{O}(n)$.\n* A sorting phase where the random vector is sorted in-place. This part is expected to scale as $\\mathcal{O}(n\\log(n))$, and thus be dominant for large $n$.\n* A last phase where estimated quantiles are built and returned. This phase is expected to scale as $\\mathcal{O}(1)$ and be negligible for large $n$.\n\n"
      ]
    },
    {
      "cell_type": "code",
      "execution_count": null,
      "metadata": {
        "collapsed": false
      },
      "outputs": [],
      "source": [
        "m = 10\nuniform_decile = functools.partial(uniform_quantiles, m=m)\nuniform_decile.__name__ = \"uniform_decile\"\n    \nall_funs = [\n    uniform_decile   ,   \n]\n\nn_bench = 20\nall_sizes = [m * 2**n for n in range(n_bench)]\n\nn_repeat = 100\n    \nplot_intent = {\n    pyquickbench.default_ax_name : \"points\"         ,   \n    pyquickbench.out_ax_name : \"curve_color\"        ,   \n}\n\npyquickbench.run_benchmark(\n    all_sizes                       ,\n    all_funs                        ,\n    n_repeat = n_repeat             ,\n    mode = \"vector_output\"          ,\n    StopOnExcept = True             ,\n    plot_intent = plot_intent       ,\n    show = True                     ,\n)"
      ]
    }
  ],
  "metadata": {
    "kernelspec": {
      "display_name": "Python 3",
      "language": "python",
      "name": "python3"
    },
    "language_info": {
      "codemirror_mode": {
        "name": "ipython",
        "version": 3
      },
      "file_extension": ".py",
      "mimetype": "text/x-python",
      "name": "python",
      "nbconvert_exporter": "python",
      "pygments_lexer": "ipython3",
      "version": "3.12.4"
    }
  },
  "nbformat": 4,
  "nbformat_minor": 0
}