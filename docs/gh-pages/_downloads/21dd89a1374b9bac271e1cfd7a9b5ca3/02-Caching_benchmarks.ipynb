{
  "cells": [
    {
      "cell_type": "markdown",
      "metadata": {},
      "source": [
        "\n# Caching benchmarks\n"
      ]
    },
    {
      "cell_type": "markdown",
      "metadata": {},
      "source": [
        "Performance benchmarks as run by pyquickbench are typically quite lengthy. Indeed, by default, pyquickbench uses the standard :meth:`python:timeit.Timer.autorange` to assess the number of times a benchmark should be run to ensure reliable timings, which comes with significant overhead as any call to this function will require a non-configurable minimum execution time of 0.2 seconds.\n\nIn pyquickbench, caching results in order to avoid a full re-run is as simple as providing a file name to :func:`pyquickbench.run_benchmark`.\n\n\n"
      ]
    },
    {
      "cell_type": "code",
      "execution_count": null,
      "metadata": {
        "collapsed": false
      },
      "outputs": [],
      "source": [
        "import pyquickbench\n\ndef comprehension(n):\n    return ['' for _ in range(n)]\n\ndef star_operator(n):\n    return ['']*n\n\ndef for_loop_append(n):\n    l = []\n    for _ in range(n):\n        l.append('')\n    \nall_funs = [\n    comprehension   ,\n    star_operator   ,\n    for_loop_append ,\n]\n \nn_bench = 12\nall_sizes = [2**n for n in range(n_bench)]\n\npyquickbench.run_benchmark(\n    all_sizes   ,\n    all_funs    ,\n    show = True ,\n    filename = timings_filename     ,\n)"
      ]
    }
  ],
  "metadata": {
    "kernelspec": {
      "display_name": "Python 3",
      "language": "python",
      "name": "python3"
    },
    "language_info": {
      "codemirror_mode": {
        "name": "ipython",
        "version": 3
      },
      "file_extension": ".py",
      "mimetype": "text/x-python",
      "name": "python",
      "nbconvert_exporter": "python",
      "pygments_lexer": "ipython3",
      "version": "3.10.13"
    }
  },
  "nbformat": 4,
  "nbformat_minor": 0
}