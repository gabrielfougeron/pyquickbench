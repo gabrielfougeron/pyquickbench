{
  "cells": [
    {
      "cell_type": "markdown",
      "metadata": {},
      "source": [
        "\n# Benchmark of inplace conjugation of arrays\n"
      ]
    },
    {
      "cell_type": "markdown",
      "metadata": {},
      "source": [
        "This is a benchmark of different ways to perform inplace conjugation of a complex numpy array.\n\n"
      ]
    },
    {
      "cell_type": "code",
      "execution_count": null,
      "metadata": {
        "collapsed": false
      },
      "outputs": [],
      "source": [
        "import pyquickbench\n\ndef numpy_ufunc_outofplace(x):\n    x = np.conjugate(x)\n    \ndef numpy_ufunc_inplace(x):\n    np.conjugate(x, out=x)\n    \ndef numpy_inplace_mul(x):\n    x.imag *= -1\n\ndef numpy_subs(x):\n    x.imag = -x.imag \n    \n@nb.jit(\"void(complex128[::1])\", **numba_opt_dict)\ndef numba_loop_typedef(x):\n    \n    for i in range(x.shape[0]):\n        x.imag[i] = -x.imag[i]\n        \n@nb.jit(**numba_opt_dict)\ndef numba_loop(x):\n    \n    for i in range(x.shape[0]):\n        x.imag[i] = -x.imag[i]\n    \n@nb.jit(**numba_opt_dict, parallel=True)\ndef numba_loop_parallel(x):\n    \n    for i in nb.prange(x.shape[0]):\n        x.imag[i] = -x.imag[i]\n  \nall_funs = [\n    numpy_ufunc_outofplace ,\n    numpy_ufunc_inplace ,\n    numpy_inplace_mul ,\n    numpy_subs ,\n    numba_loop_typedef ,\n    numba_loop ,\n    numba_loop_parallel ,\n]\n\nall_sizes = np.array([2**n for n in range(25)])\n\ndef prepare_x(n):\n    x = np.random.random(n) + 1j*np.random.random(n)\n    return [('x', x)]\n    \nbasename = f'Inplace_conjugation_bench'\ntimings_filename = os.path.join(timings_folder, basename+'.npz')\n\nn_repeat = 10\n\nall_values = pyquickbench.run_benchmark(\n    all_sizes                       ,\n    all_funs                        ,\n    setup = prepare_x               ,\n    n_repeat = n_repeat             ,\n    filename = timings_filename     ,\n)\n\npyquickbench.plot_benchmark(\n    all_values                      ,\n    all_sizes                       ,\n    all_funs                        ,\n    show = True                     ,\n    title = 'Inplace conjugation'   ,\n)"
      ]
    },
    {
      "cell_type": "code",
      "execution_count": null,
      "metadata": {
        "collapsed": false
      },
      "outputs": [],
      "source": [
        "relative_to_val = {pyquickbench.fun_ax_name:\"numpy_ufunc_inplace\"}\n\npyquickbench.plot_benchmark(\n    all_values                          ,\n    all_sizes                           ,\n    all_funs                            ,\n    relative_to_val = relative_to_val   ,\n    show = True                         ,\n    title = 'Inplace conjugation'       ,\n    ylabel = 'Time relative to numpy_ufunc_inplace' ,\n)"
      ]
    }
  ],
  "metadata": {
    "kernelspec": {
      "display_name": "Python 3",
      "language": "python",
      "name": "python3"
    },
    "language_info": {
      "codemirror_mode": {
        "name": "ipython",
        "version": 3
      },
      "file_extension": ".py",
      "mimetype": "text/x-python",
      "name": "python",
      "nbconvert_exporter": "python",
      "pygments_lexer": "ipython3",
      "version": "3.11.7"
    }
  },
  "nbformat": 4,
  "nbformat_minor": 0
}