{
  "cells": [
    {
      "cell_type": "markdown",
      "metadata": {},
      "source": [
        "\n# Benchmark of inplace conjugation of arrays\n"
      ]
    },
    {
      "cell_type": "markdown",
      "metadata": {},
      "source": [
        "This is a benchmark of different ways to perform inplace conjugation of a complex numpy array.\n\n"
      ]
    },
    {
      "cell_type": "code",
      "execution_count": null,
      "metadata": {
        "collapsed": false
      },
      "outputs": [],
      "source": [
        "def numpy_ufunc_outofplace(x):\n    y = np.conjugate(x)\n    \ndef numpy_ufunc_inplace(x):\n    np.conjugate(x, out=x)\n    \ndef numpy_inplace_mul(x):\n    x.imag *= -1\n\ndef numpy_subs(x):\n    x.imag = -x.imag \n    \n@nb.jit(\"void(complex128[::1])\", **numba_opt_dict)\ndef numba_loop_typedef(x):\n    \n    for i in range(x.shape[0]):\n        x.imag[i] = -x.imag[i]\n        \n@nb.jit(**numba_opt_dict)\ndef numba_loop(x):\n    \n    for i in range(x.shape[0]):\n        x.imag[i] = -x.imag[i]\n    \n@nb.jit(**numba_opt_dict, parallel=True)\ndef numba_loop_parallel(x):\n    \n    for i in nb.prange(x.shape[0]):\n        x.imag[i] = -x.imag[i]\n    \n@nb.vectorize(['complex128(complex128)'], nopython=True, cache=True, target='cpu')\ndef numba_vectorize(x):\n    return x.real - 1j*x.imag\n\n@nb.vectorize(['complex128(complex128)'], nopython=True, cache=True, target='cpu')\ndef numba_vectorize_conj(x):\n    return x.conjugate()\n\n@nb.vectorize(['complex128(complex128)'], nopython=True, cache=True, target='parallel')\ndef numba_vectorize_conj_parallel(x):\n    return x.conjugate()\n    \n\nplt.show()"
      ]
    }
  ],
  "metadata": {
    "kernelspec": {
      "display_name": "Python 3",
      "language": "python",
      "name": "python3"
    },
    "language_info": {
      "codemirror_mode": {
        "name": "ipython",
        "version": 3
      },
      "file_extension": ".py",
      "mimetype": "text/x-python",
      "name": "python",
      "nbconvert_exporter": "python",
      "pygments_lexer": "ipython3",
      "version": "3.10.13"
    }
  },
  "nbformat": 4,
  "nbformat_minor": 0
}