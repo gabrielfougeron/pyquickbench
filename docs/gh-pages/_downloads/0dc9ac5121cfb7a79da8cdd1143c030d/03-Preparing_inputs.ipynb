{
  "cells": [
    {
      "cell_type": "markdown",
      "metadata": {},
      "source": [
        "\n# Preparing inputs\n"
      ]
    },
    {
      "cell_type": "markdown",
      "metadata": {},
      "source": [
        "Most often, the functions to be benchmarked take data as input that is more complex than a simple integer. This data can\n\n\n\n"
      ]
    },
    {
      "cell_type": "code",
      "execution_count": null,
      "metadata": {
        "collapsed": false
      },
      "outputs": [],
      "source": [
        "import numpy as np\nimport math\n\ndef builtin_sum(x):\n    return sum(x)\n\ndef np_sum(x):\n    return np.sum(x)\n\ndef m_fsum(x):\n    return math.fsum(x)\n\nall_funs = [\n    builtin_sum ,\n    np_sum      ,\n    m_fsum      ,\n]\n\ndef prepare_x(n):\n    x = np.random.random(n)\n    return [('x', x)]"
      ]
    },
    {
      "cell_type": "markdown",
      "metadata": {},
      "source": [
        "Let's define relevant sizes of lists to be timed.\n\n"
      ]
    },
    {
      "cell_type": "code",
      "execution_count": null,
      "metadata": {
        "collapsed": false
      },
      "outputs": [],
      "source": [
        "n_bench = 8\nall_sizes = np.array([2**n for n in range(n_bench)])"
      ]
    },
    {
      "cell_type": "markdown",
      "metadata": {},
      "source": [
        "Now, let's import pyquickbench, run and plot the benchmark\n\n"
      ]
    },
    {
      "cell_type": "code",
      "execution_count": null,
      "metadata": {
        "collapsed": false
      },
      "outputs": [],
      "source": [
        "import pyquickbench\n\npyquickbench.run_benchmark(\n    all_sizes   ,\n    all_funs    ,\n    show = True ,\n    filename = timings_filename ,\n)"
      ]
    }
  ],
  "metadata": {
    "kernelspec": {
      "display_name": "Python 3",
      "language": "python",
      "name": "python3"
    },
    "language_info": {
      "codemirror_mode": {
        "name": "ipython",
        "version": 3
      },
      "file_extension": ".py",
      "mimetype": "text/x-python",
      "name": "python",
      "nbconvert_exporter": "python",
      "pygments_lexer": "ipython3",
      "version": "3.10.13"
    }
  },
  "nbformat": 4,
  "nbformat_minor": 0
}