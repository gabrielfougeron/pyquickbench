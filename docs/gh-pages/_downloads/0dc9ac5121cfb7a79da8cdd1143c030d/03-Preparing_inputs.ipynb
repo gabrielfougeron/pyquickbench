{
  "cells": [
    {
      "cell_type": "markdown",
      "metadata": {},
      "source": [
        "\n# Preparing inputs\n"
      ]
    },
    {
      "cell_type": "markdown",
      "metadata": {},
      "source": [
        "By default, the functions to be benchmarked with :func:`pyquickbench.run_benchmark` are expected to take as arguments a single integer ``n`` as in the following code.\n\n"
      ]
    },
    {
      "cell_type": "code",
      "execution_count": null,
      "metadata": {
        "collapsed": false
      },
      "outputs": [],
      "source": [
        "def comprehension(n):\n    return ['' for _ in range(n)]\n\ndef star_operator(n):\n    return ['']*n\n\ndef for_loop_append(n):\n    l = []\n    for _ in range(n):\n        l.append('')\n    \nall_funs = [\n    comprehension   ,\n    star_operator   ,\n    for_loop_append ,\n]\n\nn_bench = 12\nall_sizes = [2**n for n in range(n_bench)]\n\npyquickbench.run_benchmark(\n    all_sizes   ,\n    all_funs    ,\n    show = True ,\n)"
      ]
    },
    {
      "cell_type": "markdown",
      "metadata": {},
      "source": [
        "Most often however, the functions to be benchmarked take data as input that is more complex than a simple integer and a setup phase is needed. In the following example, we want to compare different implementations of array summation algorithms.\n\n\n"
      ]
    },
    {
      "cell_type": "code",
      "execution_count": null,
      "metadata": {
        "collapsed": false
      },
      "outputs": [],
      "source": [
        "import numpy as np\nimport math\n\ndef builtin_sum(x):\n    return sum(x)\n\ndef np_sum(x):\n    return np.sum(x)\n\ndef m_fsum(x):\n    return math.fsum(x)\n\nall_funs = [\n    builtin_sum ,\n    np_sum      ,\n    m_fsum      ,\n]\n\n\nn_bench = 12\nall_sizes = np.array([2**n for n in range(n_bench)])"
      ]
    },
    {
      "cell_type": "markdown",
      "metadata": {},
      "source": [
        "Here, we want the benchmark to measure the time taken by the different implementations as a function of the size of the input. The ``setup`` argument expects a callable that provides arguments for our different implementations to be timed. For instance, ``setup`` can return a dictionnnary ``kwargs``, so that each function to be benchmarked will be called as ``fun(**kwargs)``.\n\n"
      ]
    },
    {
      "cell_type": "code",
      "execution_count": null,
      "metadata": {
        "collapsed": false
      },
      "outputs": [],
      "source": [
        "def setup(n):\n    x = np.random.random(n)\n    return {'x' : x}\n\npyquickbench.run_benchmark(\n    all_sizes       ,\n    all_funs        ,\n    setup = setup   ,\n    show = True     ,\n)"
      ]
    },
    {
      "cell_type": "markdown",
      "metadata": {},
      "source": [
        "This calling convention is why positional-only arguments are disallowed in :func:`pyquickbench.run_benchmark`. For instance, even though the following defines a legal Python function\n\n"
      ]
    },
    {
      "cell_type": "code",
      "execution_count": null,
      "metadata": {
        "collapsed": false
      },
      "outputs": [],
      "source": [
        "def pos_only_fun(n,/):\n    return n\n\nprint(pos_only_fun(42))"
      ]
    },
    {
      "cell_type": "markdown",
      "metadata": {},
      "source": [
        "It is not allowed in :func:`pyquickbench.run_benchmark` since the following raises an error:\n\n"
      ]
    },
    {
      "cell_type": "code",
      "execution_count": null,
      "metadata": {
        "collapsed": false
      },
      "outputs": [],
      "source": [
        "try:\n    print(pos_only_fun(n=42))\nexcept TypeError as err:\n    print(f'TypeError: {err}')"
      ]
    },
    {
      "cell_type": "markdown",
      "metadata": {},
      "source": [
        "This comes with hardly any loss of generality since it is possible to wrap these positional-only arguments functions.\n\n"
      ]
    },
    {
      "cell_type": "code",
      "execution_count": null,
      "metadata": {
        "collapsed": false
      },
      "outputs": [],
      "source": [
        "def wrap_fun(n):\n    return pos_only_fun(n)\n\nprint(wrap_fun(42))\nprint(wrap_fun(n=42))"
      ]
    }
  ],
  "metadata": {
    "kernelspec": {
      "display_name": "Python 3",
      "language": "python",
      "name": "python3"
    },
    "language_info": {
      "codemirror_mode": {
        "name": "ipython",
        "version": 3
      },
      "file_extension": ".py",
      "mimetype": "text/x-python",
      "name": "python",
      "nbconvert_exporter": "python",
      "pygments_lexer": "ipython3",
      "version": "3.11.7"
    }
  },
  "nbformat": 4,
  "nbformat_minor": 0
}