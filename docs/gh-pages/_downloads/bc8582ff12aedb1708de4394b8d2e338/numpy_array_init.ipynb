{
  "cells": [
    {
      "cell_type": "markdown",
      "metadata": {},
      "source": [
        "\n# Numpy array initialization\n"
      ]
    },
    {
      "cell_type": "markdown",
      "metadata": {},
      "source": [
        "This benchmark compares the execution time of several :func:`numpy:numpy.array` initialization routines.\n\n"
      ]
    },
    {
      "cell_type": "code",
      "execution_count": null,
      "metadata": {
        "collapsed": false
      },
      "outputs": [],
      "source": [
        "dtypes_dict = {\n    \"float32\" : np.float32,\n    \"float64\" : np.float64,\n}\n\ndef zeros(n, real_dtype):\n    np.zeros((n), dtype=dtypes_dict[real_dtype])\n    \ndef ones(n, real_dtype):\n    np.ones((n), dtype=dtypes_dict[real_dtype])\n    \ndef empty(n, real_dtype):\n    np.empty((n), dtype=dtypes_dict[real_dtype])\n    \ndef full(n, real_dtype):\n    np.full((n), 0., dtype=dtypes_dict[real_dtype])\n\nall_funs = [\n    zeros   ,\n    ones    ,\n    empty   ,\n    full    ,\n]\n\nall_args = {\n    \"n\" : np.array([2**n for n in range(0, 30)]),\n    \"real_dtype\" : [\"float32\", \"float64\"],\n}\n\ndef setup(n, real_dtype):\n    return {'n': n, 'real_dtype':real_dtype}"
      ]
    },
    {
      "cell_type": "code",
      "execution_count": null,
      "metadata": {
        "collapsed": false
      },
      "outputs": [],
      "source": [
        "all_timings = pyquickbench.run_benchmark(\n    all_args                ,\n    all_funs                ,\n    setup = setup           ,\n    filename = filename     ,\n    StopOnExcept = True     ,\n    ShowProgress = True     ,\n\n)\n\nplot_intent = {\n    \"n\" : 'points'                              ,\n    \"real_dtype\" : 'curve_linestyle'            ,\n    pyquickbench.fun_ax_name :  'curve_color'   ,\n}\n\npyquickbench.plot_benchmark(\n    all_timings                             ,\n    all_args                                ,\n    all_funs                                ,\n    plot_intent = plot_intent               ,\n    show = True                             ,\n)"
      ]
    },
    {
      "cell_type": "code",
      "execution_count": null,
      "metadata": {
        "collapsed": false
      },
      "outputs": [],
      "source": [
        "relative_to_val = {pyquickbench.fun_ax_name : 'empty'}\n\npyquickbench.plot_benchmark(\n    all_timings                             ,\n    all_args                                ,\n    all_funs                                ,\n    plot_intent = plot_intent               ,\n    show = True                             ,\n    relative_to_val = relative_to_val       ,\n)"
      ]
    }
  ],
  "metadata": {
    "kernelspec": {
      "display_name": "Python 3",
      "language": "python",
      "name": "python3"
    },
    "language_info": {
      "codemirror_mode": {
        "name": "ipython",
        "version": 3
      },
      "file_extension": ".py",
      "mimetype": "text/x-python",
      "name": "python",
      "nbconvert_exporter": "python",
      "pygments_lexer": "ipython3",
      "version": "3.11.9"
    }
  },
  "nbformat": 4,
  "nbformat_minor": 0
}