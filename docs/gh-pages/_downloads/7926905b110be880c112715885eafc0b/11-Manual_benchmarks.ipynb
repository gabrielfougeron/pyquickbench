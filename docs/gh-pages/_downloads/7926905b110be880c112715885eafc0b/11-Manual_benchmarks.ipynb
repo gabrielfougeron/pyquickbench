{
  "cells": [
    {
      "cell_type": "markdown",
      "metadata": {},
      "source": [
        "\n# Running benchmarks manually\n"
      ]
    },
    {
      "cell_type": "markdown",
      "metadata": {},
      "source": [
        "While :func:`pyquickbench.run_benchmark` can be very useful to programatically run benchmarks, there are cases where it is either too difficult, or even impossible. This mostyl happens when the measurement involves some kind of manual action from the user. In this case, :mod:`pyquickbench` can still be used to organize and plot the results.\n\nIn the the following benchmark, the user manually ran a particular AI workload for varying maximal power settings of their GPU from 100% down to 35% in increments of 5%. Each run was repeated 4 times, and the results were measured as follows:\n\n"
      ]
    },
    {
      "cell_type": "code",
      "execution_count": null,
      "metadata": {
        "collapsed": false
      },
      "outputs": [],
      "source": [
        "all_args = {\n    'power_rate' : [1.00, 0.95, 0.90, 0.85, 0.80, 0.75, 0.70, 0.65, 0.60, 0.55, 0.50, 0.45, 0.40, 0.35]\n}\n\ntimings_results_manual = [\n    [ 17.00, 16.04, 15.85, 16.09, 16.65, 16.79, 17.24, 17.47, 17.99, 19.98, 22.25, 25.33, 30.28, 35.96],\n    [ 15.88, 15.59, 15.70, 15.84, 16.11, 16.43, 16.87, 17.18, 17.97, 19.88, 22.31, 25.38, 29.62, 36.12],\n    [ 15.67, 15.57, 15.68, 15.83, 16.10, 16.41, 16.82, 17.35, 17.92, 19.65, 22.06, 25.56, 29.67, 35.18],\n    [ 15.59, 15.57, 15.65, 15.84, 16.24, 16.55, 16.80, 17.33, 17.90, 19.64, 22.04, 25.31, 29.62, 35.67],\n]"
      ]
    },
    {
      "cell_type": "markdown",
      "metadata": {},
      "source": [
        "In order to understand the format required by :mod:`pyquickbench` as its input, let's create a mockup benchmark with similar settings, and run it with the option :class:`return_array_descriptor = True`.\n\n"
      ]
    },
    {
      "cell_type": "code",
      "execution_count": null,
      "metadata": {
        "collapsed": false
      },
      "outputs": [],
      "source": [
        "import numpy as np\nimport pyquickbench\n\ndef timer_fun(power_rate):\n    pass\n\nn_repeat = 4\n\nall_args = {\n    'power_rate' : [1.00, 0.95, 0.90, 0.85, 0.80, 0.75, 0.70, 0.65, 0.60, 0.55, 0.50, 0.45, 0.40, 0.35]\n}\n\narray_descriptor = pyquickbench.run_benchmark(\n    all_args                        ,\n    [timer_fun]                     ,\n    n_repeat = n_repeat             ,\n    return_array_descriptor = True  ,\n)"
      ]
    },
    {
      "cell_type": "markdown",
      "metadata": {},
      "source": [
        "The result of this call is a :class:`python:dict` containing the description of the shape of the expected array of results. The order of entries is the same as the order of the axes (remember that :class:`python:dict` are ordered since [Python 3.7](https://mail.python.org/pipermail/python-dev/2017-December/151283.html)), the keys are their names, and their values are their sizes.\n\n"
      ]
    },
    {
      "cell_type": "code",
      "execution_count": null,
      "metadata": {
        "collapsed": false
      },
      "outputs": [],
      "source": [
        "print(f'{type(array_descriptor)=}')\nprint(array_descriptor)"
      ]
    },
    {
      "cell_type": "code",
      "execution_count": null,
      "metadata": {
        "collapsed": false
      },
      "outputs": [],
      "source": [
        "print(f'{np.array(timings_results_manual).shape=}')"
      ]
    },
    {
      "cell_type": "markdown",
      "metadata": {},
      "source": [
        "Formatting the user data as as simple as swapping axes and reshaping. \n\n"
      ]
    },
    {
      "cell_type": "code",
      "execution_count": null,
      "metadata": {
        "collapsed": false
      },
      "outputs": [],
      "source": [
        "timings_results_pyquickbench = np.array(timings_results_manual).T.reshape([d for (k,d) in array_descriptor.items()])"
      ]
    },
    {
      "cell_type": "markdown",
      "metadata": {},
      "source": [
        "The resulting array can then be used as an input to :func:`pyquickbench.plot_benchmark`.\n\n"
      ]
    },
    {
      "cell_type": "code",
      "execution_count": null,
      "metadata": {
        "collapsed": false
      },
      "outputs": [],
      "source": [
        "plot_intent = {\n    'power_rate' : 'points'  ,\n    'repeat' : 'reduction_min',\n}\n\npyquickbench.plot_benchmark(\n    timings_results_pyquickbench        ,\n    all_args                            ,\n    [timer_fun]                         ,\n    logx_plot = False                   ,\n    logy_plot = False                   ,\n    plot_intent = plot_intent           ,\n    title = 'Time of computation compared to 100% power' ,\n    xlabel = \"Power rate\"               ,\n    ylabel = \"Time (s)\"                 ,\n    show = True                         ,\n)"
      ]
    },
    {
      "cell_type": "code",
      "execution_count": null,
      "metadata": {
        "collapsed": false
      },
      "outputs": [],
      "source": [
        "plot_intent = {\n    'power_rate' : 'points'  ,\n    'repeat' : 'reduction_max',\n}\n\nfreq_results = 1./timings_results_pyquickbench\n\npyquickbench.plot_benchmark(\n    freq_results                        ,\n    all_args                            ,\n    [timer_fun]                         ,\n    logx_plot = False                   ,\n    logy_plot = False                   ,\n    plot_intent = plot_intent           ,\n    title = 'Update frequency compared to 100% power' ,\n    xlabel = \"Power rate\"               ,\n    ylabel = \"Update frequency (it/s)\"  ,\n    show = True                         ,\n)"
      ]
    },
    {
      "cell_type": "markdown",
      "metadata": {},
      "source": [
        "The plots above show that :\n  * Speed is an increasing function of power consumption as expected\n  * Growth is quickest for low power rates, wit an inflexion point at ~60% and a threshold near 90%. \n\nFrom this information, and using an estimation of the baseline power of the rest of the system can be inferred a power rate setting for minimum energy consumption. This estimate lies around 60% max power.\n\n"
      ]
    },
    {
      "cell_type": "code",
      "execution_count": null,
      "metadata": {
        "collapsed": false
      },
      "outputs": [],
      "source": [
        "max_pow = 450\nbaseline_pow = 60\n\nenergy = np.empty_like(timings_results_pyquickbench)\nfor i, pwr_rate in enumerate(all_args['power_rate']):\n    energy[i,...] = (pwr_rate * max_pow + baseline_pow) * timings_results_pyquickbench[i,...]\n\npyquickbench.plot_benchmark(\n    energy                              ,\n    all_args                            ,\n    [timer_fun]                         ,\n    logx_plot = False                   ,\n    logy_plot = False                   ,\n    plot_intent = plot_intent           ,\n    title = 'Total energy consumption of the computation' ,\n    xlabel = \"Power rate\"               ,\n    relative_to_val = {'power_rate': 1.},\n    show = True                         ,\n)"
      ]
    }
  ],
  "metadata": {
    "kernelspec": {
      "display_name": "Python 3",
      "language": "python",
      "name": "python3"
    },
    "language_info": {
      "codemirror_mode": {
        "name": "ipython",
        "version": 3
      },
      "file_extension": ".py",
      "mimetype": "text/x-python",
      "name": "python",
      "nbconvert_exporter": "python",
      "pygments_lexer": "ipython3",
      "version": "3.13.2"
    }
  },
  "nbformat": 4,
  "nbformat_minor": 0
}