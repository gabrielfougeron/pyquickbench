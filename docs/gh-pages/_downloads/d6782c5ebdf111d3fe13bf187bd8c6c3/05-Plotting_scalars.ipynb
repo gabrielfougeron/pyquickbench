{
  "cells": [
    {
      "cell_type": "markdown",
      "metadata": {},
      "source": [
        "\n# Convergence analysis of scipy's Runge-Kutta methods for ODE IVP\n"
      ]
    },
    {
      "cell_type": "markdown",
      "metadata": {},
      "source": [
        "Evaluation of relative quadrature error with the following parameters:\n\n"
      ]
    },
    {
      "cell_type": "code",
      "execution_count": null,
      "metadata": {
        "collapsed": false
      },
      "outputs": [],
      "source": [
        "def scipy_ODE_cpte_error_on_test(\n    method      ,\n    nint        ,\n):\n\n    # Solutions: Airy functions\n    # Nonautonomous linear test case\n\n    test_ndim = 2\n\n    def ex_sol(t):\n\n        ai, aip, bi, bip = scipy.special.airy(t)\n\n        return np.array([ai,bi,aip,bip])\n\n    def fgun(t, xy):\n        \n        fxy = np.empty(2*test_ndim)\n        fxy[0] =  xy[2]\n        fxy[1] =  xy[3]\n        fxy[2] = t*xy[0]\n        fxy[3] = t*xy[1]\n        \n        return fxy\n        \n    t_span = (0.,np.pi)\n    \n    max_step = (t_span[1] - t_span[0]) / nint\n\n    ex_init  = ex_sol(t_span[0])\n    ex_final = ex_sol(t_span[1])\n\n    bunch = scipy.integrate.solve_ivp(\n        fun = fgun                      ,\n        t_span = t_span                 ,\n        y0 = ex_init                    ,\n        method = method                 ,\n        t_eval = np.array([t_span[1]])  ,\n        first_step = max_step           ,\n        max_step = max_step             ,\n        atol = 1.                       ,\n        rtol = 1.                       ,\n    )\n\n    error = np.linalg.norm(bunch.y[:,0]-ex_final)/np.linalg.norm(ex_final)\n\n    return error\n\nmethod_names = [\n    \"RK45\"  ,  \n    \"RK23\"  ,  \n    \"DOP853\",  \n    \"Radau\" ,  \n    \"BDF\"   ,  \n    \"LSODA\" ,  \n]\n\nall_nint = np.array([2**i for i in range(12)])\n\n\nbench = {}\nfor method in method_names:\n    \n    bench[f'{method}'] = functools.partial(\n        scipy_ODE_cpte_error_on_test ,\n        method  ,     \n    )\n\n\ndef setup(nint):\n    return {'nint': nint}"
      ]
    },
    {
      "cell_type": "markdown",
      "metadata": {},
      "source": [
        "The following plots give the measured relative error as a function of the number of quadrature subintervals\n\n"
      ]
    },
    {
      "cell_type": "code",
      "execution_count": null,
      "metadata": {
        "collapsed": false
      },
      "outputs": [],
      "source": [
        "plot_ylim = [1e-17,1e1]\n\nbench_filename = os.path.join(bench_folder,basename_bench_filename+'_error.npz')\n\nall_errors = pyquickbench.run_benchmark(\n    all_nint                        ,\n    bench                           ,\n    setup = setup                   ,\n    mode = \"scalar_output\"          ,\n    filename = bench_filename       ,\n    plot_ylim = plot_ylim                       ,\n    title = f'Relative error on integrand'      ,\n    ylabel = \"Relative error\"   ,\n    show = True                                 ,\n)"
      ]
    },
    {
      "cell_type": "markdown",
      "metadata": {},
      "source": [
        "Running time\n\n"
      ]
    },
    {
      "cell_type": "code",
      "execution_count": null,
      "metadata": {
        "collapsed": false
      },
      "outputs": [],
      "source": [
        "timings_filename = os.path.join(bench_folder,basename_bench_filename+'_timings.npz') \n\nall_times = pyquickbench.run_benchmark(\n    all_nint                        ,\n    bench                           ,\n    setup = setup                   ,\n    mode = \"timings\"                ,\n    filename = timings_filename     ,\n    logx_plot = True                ,\n    title = f'Computational cost'   ,\n    show = True                     ,\n)"
      ]
    },
    {
      "cell_type": "markdown",
      "metadata": {},
      "source": [
        "Error as a function of running time\n\n"
      ]
    },
    {
      "cell_type": "code",
      "execution_count": null,
      "metadata": {
        "collapsed": false
      },
      "outputs": [],
      "source": [
        "bench_filename = os.path.join(bench_folder,basename_bench_filename+'_error.npz') \n\nall_errors = pyquickbench.run_benchmark(\n    all_nint                        ,\n    bench                           ,\n    setup = setup                   ,\n    mode = \"scalar_output\"          ,\n    filename = bench_filename       ,\n)\n\ntimings_filename = os.path.join(bench_folder,basename_bench_filename+'_timings.npz') \n\nall_times = pyquickbench.run_benchmark(\n    all_nint                        ,\n    bench                           ,\n    setup = setup                   ,\n    mode = \"timings\"                ,\n    filename = timings_filename     ,\n)\n\npyquickbench.plot_benchmark(\n    all_errors                  ,\n    all_nint                    ,\n    bench                       ,\n    all_xvalues = all_times     ,\n    logx_plot = True            ,\n    plot_ylim = plot_ylim       ,\n    title = f'Relative error as a function of computational cost' ,\n    ylabel = \"Relative error\"   ,\n    xlabel = \"Time (s)\"         ,\n)\n\nplt.tight_layout()\nplt.show()"
      ]
    }
  ],
  "metadata": {
    "kernelspec": {
      "display_name": "Python 3",
      "language": "python",
      "name": "python3"
    },
    "language_info": {
      "codemirror_mode": {
        "name": "ipython",
        "version": 3
      },
      "file_extension": ".py",
      "mimetype": "text/x-python",
      "name": "python",
      "nbconvert_exporter": "python",
      "pygments_lexer": "ipython3",
      "version": "3.10.13"
    }
  },
  "nbformat": 4,
  "nbformat_minor": 0
}