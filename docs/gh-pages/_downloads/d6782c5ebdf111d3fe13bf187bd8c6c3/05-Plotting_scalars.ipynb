{
  "cells": [
    {
      "cell_type": "markdown",
      "metadata": {},
      "source": [
        "\n# Plotting scalar values\n"
      ]
    },
    {
      "cell_type": "markdown",
      "metadata": {},
      "source": [
        ":mod:`pyquickbench` is not only designed to measure the execution time of your Python routines, but also their output. Suppose you want to understand the convergence behavior of the following ODE integrators provided by :mod:`scipy:scipy.integrate`:\n\n"
      ]
    },
    {
      "cell_type": "code",
      "execution_count": null,
      "metadata": {
        "collapsed": false
      },
      "outputs": [],
      "source": [
        "method_names = [\n    \"RK45\"  ,  \n    \"RK23\"  ,  \n    \"DOP853\",  \n    \"Radau\" ,  \n]"
      ]
    },
    {
      "cell_type": "markdown",
      "metadata": {},
      "source": [
        "Letting :func:`pyquickbench.run_benchmark` know that the benchmark target is the return value of the error function is as simple as passing ``mode = \"scalar_output\"``.\n\n"
      ]
    },
    {
      "cell_type": "code",
      "execution_count": null,
      "metadata": {
        "collapsed": false
      },
      "outputs": [],
      "source": [
        "def scipy_ODE_cpte_error_on_test(\n    method      ,\n    n           ,\n):\n\n    # y'' = - w**2 * y\n    # y(x) = A cos(w*x) + B sin(w*x)\n\n    test_ndim = 2\n    \n    w = 10\n\n    def ex_sol(t) : \n        return np.array( [ np.cos(w*t) , np.sin(w*t),-np.sin(w*t), np.cos(w*t) ]  )\n\n    def fgun(t, xy):\n        \n        fxy = np.empty(2*test_ndim)\n        fxy[0] =  w*xy[2]\n        fxy[1] =  w*xy[3]\n        fxy[2] = -w*xy[0]\n        fxy[3] = -w*xy[1]\n        \n        return fxy\n    \n    t_span = (0.,np.pi)\n    \n    max_step = (t_span[1] - t_span[0]) / n\n\n    ex_init  = ex_sol(t_span[0])\n    ex_final = ex_sol(t_span[1])\n\n    bunch = scipy.integrate.solve_ivp(\n        fun = fgun                      ,\n        t_span = t_span                 ,\n        y0 = ex_init                    ,\n        method = method                 ,\n        t_eval = np.array([t_span[1]])  ,\n        first_step = max_step           ,\n        max_step = max_step             ,\n        atol = 1.                       ,\n        rtol = 1.                       ,\n    )\n\n    error = np.linalg.norm(bunch.y[:,0]-ex_final)/np.linalg.norm(ex_final)\n\n    return error\n\nall_nint = np.array([2**i for i in range(16)])\n\nbench = {\n    method: functools.partial(\n        scipy_ODE_cpte_error_on_test ,\n        method  ,     \n    ) for method in method_names\n}\n\nplot_ylim = [1e-17, 1e1]\n\nbench_filename = os.path.join(bench_folder,basename_bench_filename+'_error.npz')\n\npyquickbench.run_benchmark(\n    all_nint                                    ,\n    bench                                       ,\n    mode = \"scalar_output\"                      ,\n    filename = bench_filename                   ,\n    plot_ylim = plot_ylim                       ,\n    title = f'Relative error on integrand'      ,\n    ylabel = \"Relative error\"                   ,\n    show = True                                 ,\n)"
      ]
    },
    {
      "cell_type": "markdown",
      "metadata": {},
      "source": [
        "As seen in `sphx_glr__build_auto_examples_tutorial_01-First_benchmark.py`, the different integrations methods can be timed using :mod:`pyquickbench` with the following code, where we explicitely pass the default ``mode = \"timings\"``.\n\n"
      ]
    },
    {
      "cell_type": "code",
      "execution_count": null,
      "metadata": {
        "collapsed": false
      },
      "outputs": [],
      "source": [
        "timings_filename = os.path.join(bench_folder,basename_bench_filename+'_timings.npz') \n\npyquickbench.run_benchmark(\n    all_nint                        ,\n    bench                           ,\n    mode = \"timings\"                ,\n    filename = timings_filename     ,\n    logx_plot = True                ,\n    title = f'Computational cost'   ,\n    show = True                     ,\n)"
      ]
    },
    {
      "cell_type": "markdown",
      "metadata": {},
      "source": [
        "The best method for a given use case is a compromise between speed and accuracy. These two can be plotted against each other with the following code. Note that the benchmarks are not re-run thanks to the caching mechanism explained in `sphx_glr__build_auto_examples_tutorial_02-Caching_benchmarks.py`.\n\n"
      ]
    },
    {
      "cell_type": "code",
      "execution_count": null,
      "metadata": {
        "collapsed": false
      },
      "outputs": [],
      "source": [
        "bench_filename = os.path.join(bench_folder,basename_bench_filename+'_error.npz') \n\nall_errors = pyquickbench.run_benchmark(\n    all_nint                        ,\n    bench                           ,\n    mode = \"scalar_output\"          ,\n    filename = bench_filename       ,\n)\n\ntimings_filename = os.path.join(bench_folder,basename_bench_filename+'_timings.npz') \n\nall_times = pyquickbench.run_benchmark(\n    all_nint                        ,\n    bench                           ,\n    mode = \"timings\"                ,\n    filename = timings_filename     ,\n)\n\npyquickbench.plot_benchmark(\n    all_errors                  ,\n    all_nint                    ,\n    bench                       ,\n    mode = \"scalar_output\"      ,\n    all_xvalues = all_times     ,\n    logx_plot = True            ,\n    plot_ylim = plot_ylim       ,\n    title = f'Relative error as a function of computational cost' ,\n    ylabel = \"Relative error\"   ,\n    xlabel = \"Time (s)\"         ,\n    show = True                 ,\n)"
      ]
    }
  ],
  "metadata": {
    "kernelspec": {
      "display_name": "Python 3",
      "language": "python",
      "name": "python3"
    },
    "language_info": {
      "codemirror_mode": {
        "name": "ipython",
        "version": 3
      },
      "file_extension": ".py",
      "mimetype": "text/x-python",
      "name": "python",
      "nbconvert_exporter": "python",
      "pygments_lexer": "ipython3",
      "version": "3.10.13"
    }
  },
  "nbformat": 4,
  "nbformat_minor": 0
}