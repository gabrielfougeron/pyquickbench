{
  "cells": [
    {
      "cell_type": "markdown",
      "metadata": {},
      "source": [
        "\n# Summing elements of a numpy array\n"
      ]
    },
    {
      "cell_type": "markdown",
      "metadata": {},
      "source": [
        "This benchmark compares accuracy and efficiency of several summation algorithms in floating point arithmetics\n\n"
      ]
    },
    {
      "cell_type": "code",
      "execution_count": null,
      "metadata": {
        "collapsed": false
      },
      "outputs": [],
      "source": [
        "def builtin_sum(x):\n    return sum(x)\n\ndef naive_sum(x):\n    s = 0.\n    for i in range(x.shape[0]):\n        s += x[i]\n    return s    \n    \nnb_naive_sum = nb.jit(naive_sum, **numba_opt_dict)\nnb_naive_sum.__name__ = \"nb_naive_sum\"\n\ndef np_sum(x):\n    return np.sum(x)\n\ndef m_fsum(x):\n    return m.fsum(x)\n\n@nb.jit(**numba_opt_dict)\ndef taylor_poly(n, alpha):\n    \n    x = np.zeros((n),dtype=np.float64)\n    cur_term = 1.\n    x[0] = cur_term\n\n    for i in range(1, x.shape[0]):\n\n        cur_term = cur_term * (alpha / i)\n        x[i] = cur_term\n\n    return x\n\ndef setup(alpha):\n    return taylor_poly(int(1e5), -alpha)\n\n@functools.cache\ndef exact_sum(alpha):\n    y = setup(alpha)\n    return m.fsum(y)\n    \ndef compute_error(f, x):\n    \n    ex_res =  exact_sum(-x[1])\n    res = f(x)\n    rel_err = abs(ex_res - res) / abs(ex_res)\n    \n    return rel_err + 1e-40\n\n\nall_alphas = np.array([float(alpha) for alpha in range(500)])\n\nall_funs = [\n    naive_sum,\n    nb_naive_sum,\n    builtin_sum,\n    np_sum,\n    m_fsum,\n]\n\nall_error_funs = { f.__name__ :  functools.partial(compute_error, f) for f in all_funs if f is not m_fsum}\n\npyquickbench.run_benchmark(\n    all_alphas                      ,\n    all_error_funs                  ,\n    setup = setup                   ,\n    mode = \"scalar_output\"          ,\n    filename = error_filename       ,\n    ForceBenchmark = ForceBenchmark ,\n    title = \"Relative error for increasing conditionning\"   ,\n    show = True                             ,\n)"
      ]
    },
    {
      "cell_type": "code",
      "execution_count": null,
      "metadata": {
        "collapsed": false
      },
      "outputs": [],
      "source": [
        "def prepare_x(n):\n    x = np.random.random(n)\n    return {'x': x}"
      ]
    }
  ],
  "metadata": {
    "kernelspec": {
      "display_name": "Python 3",
      "language": "python",
      "name": "python3"
    },
    "language_info": {
      "codemirror_mode": {
        "name": "ipython",
        "version": 3
      },
      "file_extension": ".py",
      "mimetype": "text/x-python",
      "name": "python",
      "nbconvert_exporter": "python",
      "pygments_lexer": "ipython3",
      "version": "3.10.13"
    }
  },
  "nbformat": 4,
  "nbformat_minor": 0
}