{
  "cells": [
    {
      "cell_type": "markdown",
      "metadata": {},
      "source": [
        "\n# A first benchmark\n"
      ]
    },
    {
      "cell_type": "markdown",
      "metadata": {},
      "source": [
        "Let's run and plot a first simple benchmark in Python.\n\nSuppose I want to compare the efficiency of a few different methods to pre-allocate memory for a list of strings in Python.\n\nLet's define a separate python function for three different list pre-allocation strategies.\nThese functions all take an integer called ``n`` as an input, which stands for the length of the list to be pre-allocated.\nThe argument name ``n`` is the :data:`pyquickbench.default_ax_name` and can be changed in as described in `sphx_glr__build_auto_examples_tutorial_03-Preparing_inputs.py`.\n\n\n"
      ]
    },
    {
      "cell_type": "code",
      "execution_count": null,
      "metadata": {
        "collapsed": false
      },
      "outputs": [],
      "source": [
        "def comprehension(n):\n    return ['' for _ in range(n)]\n\ndef star_operator(n):\n    return ['']*n\n\ndef for_loop_append(n):\n    l = []\n    for _ in range(n):\n        l.append('')\n    \nall_funs = [\n    comprehension   ,\n    star_operator   ,\n    for_loop_append ,\n]"
      ]
    },
    {
      "cell_type": "markdown",
      "metadata": {},
      "source": [
        "Let's define relevant sizes of lists to be timed.\n\n"
      ]
    },
    {
      "cell_type": "code",
      "execution_count": null,
      "metadata": {
        "collapsed": false
      },
      "outputs": [],
      "source": [
        "n_bench = 12\nall_sizes = [2**n for n in range(n_bench)]"
      ]
    },
    {
      "cell_type": "markdown",
      "metadata": {},
      "source": [
        "Now, let's import pyquickbench, run and plot the benchmark\n\n"
      ]
    },
    {
      "cell_type": "code",
      "execution_count": null,
      "metadata": {
        "collapsed": false
      },
      "outputs": [],
      "source": [
        "import pyquickbench\n\npyquickbench.run_benchmark(\n    all_sizes   ,\n    all_funs    ,\n    show = True ,\n)"
      ]
    },
    {
      "cell_type": "markdown",
      "metadata": {},
      "source": [
        "From this benchmark, it is easy to see that initializing a list to a given length filled with a single value is quickest using the star operator.\n"
      ]
    }
  ],
  "metadata": {
    "kernelspec": {
      "display_name": "Python 3",
      "language": "python",
      "name": "python3"
    },
    "language_info": {
      "codemirror_mode": {
        "name": "ipython",
        "version": 3
      },
      "file_extension": ".py",
      "mimetype": "text/x-python",
      "name": "python",
      "nbconvert_exporter": "python",
      "pygments_lexer": "ipython3",
      "version": "3.12.4"
    }
  },
  "nbformat": 4,
  "nbformat_minor": 0
}