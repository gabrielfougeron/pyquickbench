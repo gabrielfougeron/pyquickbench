{
  "cells": [
    {
      "cell_type": "markdown",
      "metadata": {},
      "source": [
        "\n# Multidimensional benchmarks\n"
      ]
    },
    {
      "cell_type": "markdown",
      "metadata": {},
      "source": [
        "One of pyquickbench's strengths is its ability to run multidimensional benchmarks to test function behavior changes with respect to several different arguments, or to assess repeatability of a benchmark.\n\nFor instance, let's run the following benchmark a thousand times.\n\n\n"
      ]
    },
    {
      "cell_type": "code",
      "execution_count": null,
      "metadata": {
        "collapsed": false
      },
      "outputs": [],
      "source": [
        "import pyquickbench\n\ndef comprehension(n):\n    return ['' for _ in range(n)]\n\ndef star_operator(n):\n    return ['']*n\n\ndef for_loop_append(n):\n    l = []\n    for _ in range(n):\n        l.append('')\n    \nall_funs = [\n    comprehension   ,\n    star_operator   ,\n    for_loop_append ,\n]\n \nn_bench = 12\nall_sizes = [2**n for n in range(n_bench)]\n\nn_repeat = 1000\ntime_per_test = 0.2\n\nall_values = pyquickbench.run_benchmark(\n    all_sizes                       ,\n    all_funs                        ,\n    n_repeat = n_repeat             ,\n    time_per_test = time_per_test   ,\n    filename = timings_filename     ,\n) \n\npyquickbench.plot_benchmark(\n    all_values                      ,\n    all_sizes                       ,\n    all_funs                        ,\n    show = True                     ,\n)"
      ]
    },
    {
      "cell_type": "markdown",
      "metadata": {},
      "source": [
        "By default, only the minminum timing is reported on the plot as recommended by :meth:`python:timeit.Timer.repeat`. This being said, the array ``all_values`` does contain ``n_repeat`` timings.\n\n\n"
      ]
    },
    {
      "cell_type": "code",
      "execution_count": null,
      "metadata": {
        "collapsed": false
      },
      "outputs": [],
      "source": [
        "print(all_values.shape[0] == len(all_sizes))\nprint(all_values.shape[1] == len(all_funs))\nprint(all_values.shape[2] == n_repeat)"
      ]
    },
    {
      "cell_type": "markdown",
      "metadata": {},
      "source": [
        "All the different timings can be superimposed on the same plot with the following ``plot_intent`` argument:\n\n"
      ]
    },
    {
      "cell_type": "code",
      "execution_count": null,
      "metadata": {
        "collapsed": false
      },
      "outputs": [],
      "source": [
        "plot_intent = {\n    pyquickbench.default_ax_name   : \"points\"       ,\n    pyquickbench.fun_ax_name       : \"curve_color\"  ,\n    pyquickbench.repeat_ax_name    : \"same\"         ,\n}\n\npyquickbench.plot_benchmark(\n    all_values                      ,\n    all_sizes                       ,\n    all_funs                        ,\n    show = True                     ,\n    plot_intent =   plot_intent     ,\n)"
      ]
    },
    {
      "cell_type": "markdown",
      "metadata": {},
      "source": [
        "The above plot is quite cluttered. For more concise information, let's use curve transparency:\n\n"
      ]
    },
    {
      "cell_type": "code",
      "execution_count": null,
      "metadata": {
        "collapsed": false
      },
      "outputs": [],
      "source": [
        "pyquickbench.plot_benchmark(\n    all_values                      ,\n    all_sizes                       ,\n    all_funs                        ,\n    show = True                     ,\n    plot_intent =   plot_intent     ,\n    alpha = 1./255                  ,\n)"
      ]
    },
    {
      "cell_type": "markdown",
      "metadata": {},
      "source": [
        "The above plot gives a good idea of the concentration of data, but bounds on timing are not very clear. Using reductions in ``plot_intent``, we can for instance choose to plot minimal, median and maximal values. The list of all possible reductions is accessible in :data:`pyquickbench.all_reductions`.\n\n\n"
      ]
    },
    {
      "cell_type": "code",
      "execution_count": null,
      "metadata": {
        "collapsed": false
      },
      "outputs": [],
      "source": [
        "dpi = 150\nfigsize = (1600/dpi, 800/dpi)\n\nfig, ax = plt.subplots(\n    nrows   = 1         ,\n    ncols   = 1         ,\n    figsize = figsize   ,\n    dpi     = dpi       ,\n    squeeze = False     ,\n)\n\nall_repeat_intents = [\"reduction_min\", \"reduction_max\", \"reduction_median\"]\nall_linestyles = [\"dotted\", \"dashed\", \"solid\"]\n\nfor (\n    repeat_intent       ,\n    linestyle           ,\n)in zip(\n    all_repeat_intents  ,\n    all_linestyles      ,\n):\n\n    plot_intent = {\n        pyquickbench.default_ax_name    : \"points\"      ,\n        pyquickbench.fun_ax_name        : \"curve_color\" ,\n        pyquickbench.repeat_ax_name     : repeat_intent ,\n    }\n\n    pyquickbench.plot_benchmark(\n        all_values                  ,\n        all_sizes                   ,\n        all_funs                    ,\n        plot_intent = plot_intent   ,\n        linestyle_list = linestyle  ,\n        fig = fig                   ,\n        ax = ax                     ,\n    )\n    \nplt.tight_layout()\nplt.show()"
      ]
    },
    {
      "cell_type": "markdown",
      "metadata": {},
      "source": [
        "More generally, the ``plot_intent`` argument controls what dimension of the array ``all_values`` is plotted, and in what way. For instance, as a way to better understand the statistics of the measured timings, we can plot the measured time of execution as a function of the index of the repeated benchmark for a single function.\n\n"
      ]
    },
    {
      "cell_type": "code",
      "execution_count": null,
      "metadata": {
        "collapsed": false
      },
      "outputs": [],
      "source": [
        "plot_intent = {\n    pyquickbench.default_ax_name    : \"curve_color\"     , \n    pyquickbench.fun_ax_name        : \"single_value\"    ,\n    pyquickbench.repeat_ax_name     : \"points\"          ,\n}\n\nsingle_values_val = {pyquickbench.fun_ax_name: \"star_operator\"}\n\npyquickbench.plot_benchmark(\n    all_values                              ,\n    all_sizes                               ,\n    all_funs                                ,\n    show = True                             ,\n    plot_intent =   plot_intent             ,\n    single_values_val = single_values_val   ,\n)"
      ]
    },
    {
      "cell_type": "markdown",
      "metadata": {},
      "source": [
        "Or for all functions, but a single value of input size.\n\n"
      ]
    },
    {
      "cell_type": "code",
      "execution_count": null,
      "metadata": {
        "collapsed": false
      },
      "outputs": [],
      "source": [
        "plot_intent = {\n    pyquickbench.default_ax_name    : \"reduction_max\"   , \n    pyquickbench.fun_ax_name        : \"curve_color\"     ,\n    pyquickbench.repeat_ax_name     : \"points\"          ,\n}\n\npyquickbench.plot_benchmark(\n    all_values                      ,\n    all_sizes                       ,\n    all_funs                        ,\n    show = True                     ,\n    plot_intent = plot_intent       ,\n)"
      ]
    },
    {
      "cell_type": "markdown",
      "metadata": {},
      "source": [
        "As can be seen in the above plots, the timings are automatically sorted along the :data:`pyquickbench.repeat_ax_name` axis.\nThe list of all possible ``plot_intent`` values is available in :data:`pyquickbench.all_plot_intents`.\n"
      ]
    }
  ],
  "metadata": {
    "kernelspec": {
      "display_name": "Python 3",
      "language": "python",
      "name": "python3"
    },
    "language_info": {
      "codemirror_mode": {
        "name": "ipython",
        "version": 3
      },
      "file_extension": ".py",
      "mimetype": "text/x-python",
      "name": "python",
      "nbconvert_exporter": "python",
      "pygments_lexer": "ipython3",
      "version": "3.11.7"
    }
  },
  "nbformat": 4,
  "nbformat_minor": 0
}