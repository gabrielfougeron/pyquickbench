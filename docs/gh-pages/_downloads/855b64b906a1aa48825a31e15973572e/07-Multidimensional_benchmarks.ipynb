{
  "cells": [
    {
      "cell_type": "markdown",
      "metadata": {},
      "source": [
        "\n# Multidimensional_benchmarks\n"
      ]
    },
    {
      "cell_type": "markdown",
      "metadata": {},
      "source": [
        "Let's run and plot a first simple benchmark in Python.\n\nSuppose I want to compare the efficiency of a few different methods to pre-allocate memory for a list of strings in Python.\n\nLet's define a separate python function for three different list pre-allocation strategies.\nThese functions all take an integer called \"n\" as an input, which stands for the length of the list to be pre-allocated.\nThe argument name \"n\" is the default in pyquickbench and can be changed in as described in `sphx_glr__build_auto_examples_tutorial_03-Preparing_inputs.py`.\n\n\n"
      ]
    },
    {
      "cell_type": "code",
      "execution_count": null,
      "metadata": {
        "collapsed": false
      },
      "outputs": [],
      "source": [
        "def comprehension(n):\n    return ['' for _ in range(n)]\n\ndef star_operator(n):\n    return ['']*n\n\ndef for_loop_append(n):\n    l = []\n    for _ in range(n):\n        l.append('')\n    \nall_funs = [\n    comprehension   ,\n    star_operator   ,\n    for_loop_append ,\n]"
      ]
    },
    {
      "cell_type": "markdown",
      "metadata": {},
      "source": [
        "Let's define relevant sizes of lists to be timed.\n\n"
      ]
    },
    {
      "cell_type": "code",
      "execution_count": null,
      "metadata": {
        "collapsed": false
      },
      "outputs": [],
      "source": [
        "n_bench = 12\nall_sizes = [2**n for n in range(n_bench)]"
      ]
    },
    {
      "cell_type": "markdown",
      "metadata": {},
      "source": [
        "Now, let's import pyquickbench, run and plot the benchmark\n\n"
      ]
    },
    {
      "cell_type": "code",
      "execution_count": null,
      "metadata": {
        "collapsed": false
      },
      "outputs": [],
      "source": [
        "import pyquickbench\n\nn_repeat = 1000\ntime_per_test = 0.2\n\npyquickbench.run_benchmark(\n    all_sizes                       ,\n    all_funs                        ,\n    n_repeat = n_repeat             ,\n    time_per_test = time_per_test   ,\n    show = True                     ,\n    filename = timings_filename     ,\n    pooltype = 'process'            ,\n)"
      ]
    },
    {
      "cell_type": "markdown",
      "metadata": {},
      "source": [
        "By default : minimum as in :meth:`python:timeit.Timer.repeat`\n\n\n"
      ]
    },
    {
      "cell_type": "code",
      "execution_count": null,
      "metadata": {
        "collapsed": false
      },
      "outputs": [],
      "source": [
        "all_values = pyquickbench.run_benchmark(\n    all_sizes                       ,\n    all_funs                        ,\n    n_repeat = n_repeat             ,\n    time_per_test = time_per_test   ,\n    filename = timings_filename     ,\n) \n\nplot_intent = {\n    \"n\"         : \"points\"          ,\n    \"fun\"       : \"curve_color\"     ,\n    \"repeat\"    : \"same\"   ,\n}\n\npyquickbench.plot_benchmark(\n    all_values                      ,\n    all_sizes                       ,\n    all_funs                        ,\n    show = True                     ,\n    plot_intent =   plot_intent     ,\n)\n\nplot_intent = {\n    \"n\"         : \"points\"          ,\n    \"fun\"       : \"curve_color\"     ,\n    \"repeat\"    : \"reduction_min\"   ,\n}\n\npyquickbench.plot_benchmark(\n    all_values                      ,\n    all_sizes                       ,\n    all_funs                        ,\n    show = True                     ,\n    plot_intent =   plot_intent     ,\n)"
      ]
    }
  ],
  "metadata": {
    "kernelspec": {
      "display_name": "Python 3",
      "language": "python",
      "name": "python3"
    },
    "language_info": {
      "codemirror_mode": {
        "name": "ipython",
        "version": 3
      },
      "file_extension": ".py",
      "mimetype": "text/x-python",
      "name": "python",
      "nbconvert_exporter": "python",
      "pygments_lexer": "ipython3",
      "version": "3.10.13"
    }
  },
  "nbformat": 4,
  "nbformat_minor": 0
}