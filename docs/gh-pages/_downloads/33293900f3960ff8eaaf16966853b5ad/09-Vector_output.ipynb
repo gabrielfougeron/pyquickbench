{
  "cells": [
    {
      "cell_type": "markdown",
      "metadata": {},
      "source": [
        "\n# Vector outputs\n"
      ]
    },
    {
      "cell_type": "markdown",
      "metadata": {},
      "source": [
        "Pyquickbench can also be used to benchmark functions that return multiple values. This capability corresponds to ``mode = \"vector_output\"`` in :mod:`pyquickbench`. The following benchmark measures the convergence of quantile estimatores of a uniform random variable towards their theoretical values.\nLet us first observe how the values of the naive quantile estimator as returned by ``uniform_quantiles`` evolve with increasing number of simulated random variables:\n\n"
      ]
    },
    {
      "cell_type": "code",
      "execution_count": null,
      "metadata": {
        "collapsed": false
      },
      "outputs": [],
      "source": [
        "import pyquickbench\n\ndef uniform_quantiles(n,m):\n    \n    vec = np.random.random((n+1))\n    vec.sort()\n    \n    return np.array([abs(vec[(n // m)*i]) for i in range(m+1)])\n    \nm = 10\nuniform_decile = functools.partial(uniform_quantiles, m=m)\nuniform_decile.__name__ = \"uniform_decile\"\n    \nall_funs = [\n    uniform_decile   ,   \n]\n\nn_bench = 10\nall_sizes = [m * 2**n for n in range(n_bench)]\n\nn_repeat = 100\n    \nall_values = pyquickbench.run_benchmark(\n    all_sizes                   ,\n    all_funs                    ,\n    n_repeat = n_repeat         ,\n    mode = \"vector_output\"      ,\n    StopOnExcept = True         ,\n    pooltype = 'process'        ,\n) \n\nplot_intent = {\n    pyquickbench.default_ax_name : \"points\"         ,   \n    pyquickbench.repeat_ax_name : \"same\"            ,   \n    pyquickbench.out_ax_name : \"curve_color\"        ,   \n}\n\npyquickbench.plot_benchmark(\n    all_values                      ,\n    all_sizes                       ,\n    all_funs                        ,\n    plot_intent = plot_intent       ,\n    show = True                     ,\n    logy_plot = False               ,\n    plot_ylim = (0.,1.)             ,\n    alpha = 50./255                 ,\n    ylabel = \"Quantile estimator\"   ,\n)"
      ]
    },
    {
      "cell_type": "markdown",
      "metadata": {},
      "source": [
        "While the above plot hints at a convergence towards specific values, we can be a bit more precise and plot the actual convergence error.\n\n"
      ]
    },
    {
      "cell_type": "code",
      "execution_count": null,
      "metadata": {
        "collapsed": false
      },
      "outputs": [],
      "source": [
        "def uniform_quantiles_error(n,m):\n    \n    vec = np.random.random((n+1))\n    vec.sort()\n    \n    return np.array([abs(vec[(n // m)*i] - i / m) for i in range(m+1)])\n\nuniform_decile_error = functools.partial(uniform_quantiles_error, m=m)\nuniform_decile_error.__name__ = \"uniform_decile_error\"\n\nall_funs = [\n    uniform_decile_error   ,   \n]\n\nn_repeat = 10000\n\nall_errors = pyquickbench.run_benchmark(\n    all_sizes                   ,\n    all_funs                    ,\n    n_repeat = n_repeat         ,\n    mode = \"vector_output\"      ,\n    StopOnExcept = True         ,\n    pooltype = 'process'        ,\n\n) \n\nplot_intent = {\n    pyquickbench.default_ax_name : \"points\"         ,   \n    pyquickbench.fun_ax_name : \"curve_color\"        ,   \n    pyquickbench.repeat_ax_name : \"reduction_median\",   \n    pyquickbench.out_ax_name : \"curve_color\"        ,   \n}\n\npyquickbench.plot_benchmark(\n    all_errors                      ,\n    all_sizes                       ,\n    all_funs                        ,\n    plot_intent = plot_intent       ,\n    show = True                     ,\n    ylabel = \"Estimator error\"      ,\n\n)"
      ]
    },
    {
      "cell_type": "markdown",
      "metadata": {},
      "source": [
        "The above plot shows a very distinct behavior for the estimation of the minimum and maximum values compared to the other quantiles. The following plot of convergence order makes this difference even more salient.\n\n"
      ]
    },
    {
      "cell_type": "code",
      "execution_count": null,
      "metadata": {
        "collapsed": false
      },
      "outputs": [],
      "source": [
        "pyquickbench.plot_benchmark(\n    all_errors                      ,\n    all_sizes                       ,\n    all_funs                        ,\n    plot_intent = plot_intent       ,\n    show = True                     ,\n    transform = \"pol_cvgence_order\" ,\n    ylabel = \"Order of convergence of estimator error\"      ,\n)"
      ]
    }
  ],
  "metadata": {
    "kernelspec": {
      "display_name": "Python 3",
      "language": "python",
      "name": "python3"
    },
    "language_info": {
      "codemirror_mode": {
        "name": "ipython",
        "version": 3
      },
      "file_extension": ".py",
      "mimetype": "text/x-python",
      "name": "python",
      "nbconvert_exporter": "python",
      "pygments_lexer": "ipython3",
      "version": "3.12.4"
    }
  },
  "nbformat": 4,
  "nbformat_minor": 0
}