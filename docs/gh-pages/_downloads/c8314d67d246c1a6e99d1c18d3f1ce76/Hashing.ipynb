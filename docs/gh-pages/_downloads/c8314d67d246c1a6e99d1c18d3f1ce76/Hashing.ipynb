{
  "cells": [
    {
      "cell_type": "markdown",
      "metadata": {},
      "source": [
        "\n# Time benchmark of built-in hashing in Python\n"
      ]
    },
    {
      "cell_type": "markdown",
      "metadata": {},
      "source": [
        "This is a benchmark of different ways to perform inplace conjugation of a complex numpy array.\n\n"
      ]
    },
    {
      "cell_type": "code",
      "execution_count": null,
      "metadata": {
        "collapsed": false
      },
      "outputs": [],
      "source": [
        "import random\nimport pyquickbench\n\ndef randbytes(n):\n    return {'data':random.randbytes(n)}\n\nimport hashlib\n\ndef md5(data):\n    return hashlib.md5(data)\n\ndef sha1(data):\n    return hashlib.sha1(data)\n\ndef sha224(data):\n    return hashlib.sha224(data)\n\ndef sha256(data):\n    return hashlib.sha256(data)\n\ndef sha384(data):\n    return hashlib.sha384(data)\n\ndef sha512(data):\n    return hashlib.sha512(data)\n\ndef sha3_224(data):\n    return hashlib.sha3_224(data)\n\ndef sha3_256(data):\n    return hashlib.sha3_256(data)\n\ndef sha3_384(data):\n    return hashlib.sha3_384(data)\n\ndef sha3_512(data):\n    return hashlib.sha3_512(data)\n\nall_funs = [\n    md5         ,\n    sha1        ,\n    sha224      ,\n    sha256      ,\n    sha384      ,\n    sha512      ,\n    sha3_224    ,\n    sha3_256    ,\n    sha3_384    ,\n    sha3_512    ,\n]\n\nall_sizes = [2**n for n in range(25)]\nbasename = 'Hashing_bench'\ntimings_filename = os.path.join(timings_folder, basename+'.npz')\n\nn_repeat = 1\n\nall_values = pyquickbench.run_benchmark(\n    all_sizes                   ,\n    all_funs                    ,\n    setup = randbytes           ,\n    n_repeat = n_repeat         ,\n    filename = timings_filename ,\n    ShowProgress=True           ,\n)\n\npyquickbench.plot_benchmark(\n    all_values                              ,\n    all_sizes                               ,\n    all_funs                                ,\n    show = True                             ,\n    title = 'Built-in hashing in Python'    ,\n)"
      ]
    },
    {
      "cell_type": "code",
      "execution_count": null,
      "metadata": {
        "collapsed": false
      },
      "outputs": [],
      "source": [
        "relative_to_val = {pyquickbench.fun_ax_name:\"sha1\"}\n\npyquickbench.plot_benchmark(\n    all_values                              ,\n    all_sizes                               ,\n    all_funs                                ,\n    relative_to_val = relative_to_val       ,\n    show = True                             ,\n    title = 'Built-in hashing in Python'    ,\n    ylabel = 'Time relative to sha1'        ,\n)"
      ]
    }
  ],
  "metadata": {
    "kernelspec": {
      "display_name": "Python 3",
      "language": "python",
      "name": "python3"
    },
    "language_info": {
      "codemirror_mode": {
        "name": "ipython",
        "version": 3
      },
      "file_extension": ".py",
      "mimetype": "text/x-python",
      "name": "python",
      "nbconvert_exporter": "python",
      "pygments_lexer": "ipython3",
      "version": "3.13.2"
    }
  },
  "nbformat": 4,
  "nbformat_minor": 0
}