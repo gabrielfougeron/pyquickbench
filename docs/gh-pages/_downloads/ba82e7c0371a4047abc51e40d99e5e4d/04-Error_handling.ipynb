{
  "cells": [
    {
      "cell_type": "markdown",
      "metadata": {},
      "source": [
        "\n# Handling errors\n"
      ]
    },
    {
      "cell_type": "markdown",
      "metadata": {},
      "source": [
        "By default, :func:`pyquickbench.run_benchmark` will try to benchmark as much as possible even if the callables to be benchmarked throw errors. These errors are caught and the corresponding value in the benchmark is recorded as ``np.nan``, which will in turn show in plots as a missing value.\n\n"
      ]
    },
    {
      "cell_type": "code",
      "execution_count": null,
      "metadata": {
        "collapsed": false
      },
      "outputs": [],
      "source": [
        "import pyquickbench\n\ndef comprehension(n):\n    if n == 1 :\n        raise ValueError('Forbidden value')\n    return ['' for _ in range(n)]\n\ndef star_operator(n):\n    if n == 8:\n        raise ValueError('Forbidden value')\n    return ['']*n\n\ndef for_loop_append(n):\n    if n == 32:\n        raise ValueError('Forbidden value')\n    l = []\n    for _ in range(n):\n        l.append('')\n    \nall_funs = [\n    comprehension   ,\n    star_operator   ,\n    for_loop_append ,\n]\n\nn_bench = 8\nall_sizes = np.array([2**n for n in range(n_bench)])\n\npyquickbench.run_benchmark(\n    all_sizes   ,\n    all_funs    ,\n    show = True ,\n)"
      ]
    },
    {
      "cell_type": "markdown",
      "metadata": {},
      "source": [
        "This default can be overriden with the argument ``StopOnExcept`` set to ``True``. The error is then not caught by :func:`pyquickbench.run_benchmark`, and it is the user's responsibility to handle it.\n\n"
      ]
    },
    {
      "cell_type": "code",
      "execution_count": null,
      "metadata": {
        "collapsed": false
      },
      "outputs": [],
      "source": [
        "try:\n    pyquickbench.run_benchmark(\n        all_sizes           ,\n        all_funs            ,\n        show = True         ,\n        StopOnExcept = True ,\n    ) \nexcept Exception as exc:\n    print(f'Exception thrown: {exc}')"
      ]
    }
  ],
  "metadata": {
    "kernelspec": {
      "display_name": "Python 3",
      "language": "python",
      "name": "python3"
    },
    "language_info": {
      "codemirror_mode": {
        "name": "ipython",
        "version": 3
      },
      "file_extension": ".py",
      "mimetype": "text/x-python",
      "name": "python",
      "nbconvert_exporter": "python",
      "pygments_lexer": "ipython3",
      "version": "3.12.4"
    }
  },
  "nbformat": 4,
  "nbformat_minor": 0
}